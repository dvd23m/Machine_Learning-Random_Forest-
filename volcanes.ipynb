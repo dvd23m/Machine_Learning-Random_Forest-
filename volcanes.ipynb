{
 "cells": [
  {
   "cell_type": "markdown",
   "id": "809593c3",
   "metadata": {},
   "source": [
    "# Clasificación de volcanes  \n",
    "\n",
    "![Volcanes](https://challenges-asset-files.s3.us-east-2.amazonaws.com/data_sets/Data-Science/4+-+events/jobmadrid/images/front.png)  \n",
    "\n",
    "### Descripción del reto\n",
    "\n",
    "> Jorge es un geólogo del IGME (Instituto Geológico y Minero de España) que está desarrollando un nuevo sistema de prevención de erupciones para poder predecir qué tipo de erupción tendrá un volcán según las las vibraciones detectadas por sus sensores durante los días previos a la erupción. Esto permitirá reducir el riesgo de víctimas y destrozos materiales por este tipo de catástrofe natural.\n",
    "El sistema de Jorge trabaja con 5 tipos de erupciones:  \n",
    "\n",
    "\n",
    "> - **Pliniana**: Se caracteriza por su alto grado de explosividad, con manifestaciones muy violentas en las cuales se expulsan grandes volúmenes de gas volcánico, fragmentos y cenizas.\n",
    "\n",
    "> - **Peleana:** La característica más importante de una erupción peleana es la presencia de una avalancha brillante de ceniza volcánica caliente, llamada flujo piroclástico.\n",
    "\n",
    "> - **Vulcaniana:** Son erupciones volcánicas de tipo explosivo. El material magmático liberado es más viscoso que en el caso de las erupciones hawaianas o estrombolianas; consecuentemente, se acumula más presión desde la cámara magmática conforme el magma asciende hacia la superficie.\n",
    "\n",
    "> - **Hawaiana:** Consiste en la emisión de material volcánico, mayoritariamente basáltico, de manera efusiva o no explosiva. Ocurre de este modo debido a que la difusión de los gases a través de magmas más básicos (basálticos) puede hacerse de manera lenta pero más o menos continua. Consecuentemente, las erupciones volcánicas de este tipo no suelen ser muy destructivas.\n",
    "\n",
    "> - **Estromboliana:** La erupción Estromboliana está caracterizada por erupciones explosivas separadas por periodos de calma de duración variable. El proceso de cada explosión corresponde a la evolución de una burbuja de gases liberados por el propio magma."
   ]
  },
  {
   "cell_type": "markdown",
   "id": "b9506566",
   "metadata": {},
   "source": [
    "### Importación de librerias necesarias"
   ]
  },
  {
   "cell_type": "code",
   "execution_count": 1,
   "id": "3f9a0c1e",
   "metadata": {},
   "outputs": [],
   "source": [
    "# Analisis\n",
    "import pandas as pd\n",
    "import numpy as np\n",
    "import matplotlib.pyplot as plt\n",
    "import seaborn as sns\n",
    "plt.style.use(\"ggplot\")\n",
    "\n",
    "# Machine Learning\n",
    "from sklearn.model_selection import train_test_split\n",
    "from sklearn.ensemble import RandomForestClassifier\n",
    "from sklearn.model_selection import ParameterGrid\n",
    "from imblearn.ensemble import BalancedRandomForestClassifier\n",
    "from collections import Counter\n",
    "from imblearn.over_sampling import SMOTE\n",
    "\n",
    "\n",
    "# Metricas\n",
    "from sklearn.metrics import f1_score, confusion_matrix, ConfusionMatrixDisplay\n",
    "\n",
    "# Otras\n",
    "import warnings\n",
    "warnings.filterwarnings(\"ignore\")\n"
   ]
  },
  {
   "cell_type": "markdown",
   "id": "6d011a43",
   "metadata": {},
   "source": [
    "### Carga de datos iniciales\n",
    "\n",
    "En primer lugar, se realiza la carga de los datos en un dataframe de Pandas y se muestran las primeras filas"
   ]
  },
  {
   "cell_type": "code",
   "execution_count": 2,
   "id": "45411004",
   "metadata": {},
   "outputs": [
    {
     "data": {
      "text/html": [
       "<div>\n",
       "<style scoped>\n",
       "    .dataframe tbody tr th:only-of-type {\n",
       "        vertical-align: middle;\n",
       "    }\n",
       "\n",
       "    .dataframe tbody tr th {\n",
       "        vertical-align: top;\n",
       "    }\n",
       "\n",
       "    .dataframe thead th {\n",
       "        text-align: right;\n",
       "    }\n",
       "</style>\n",
       "<table border=\"1\" class=\"dataframe\">\n",
       "  <thead>\n",
       "    <tr style=\"text-align: right;\">\n",
       "      <th></th>\n",
       "      <th>feature1</th>\n",
       "      <th>feature2</th>\n",
       "      <th>feature3</th>\n",
       "      <th>feature4</th>\n",
       "      <th>feature5</th>\n",
       "      <th>feature6</th>\n",
       "      <th>target</th>\n",
       "    </tr>\n",
       "  </thead>\n",
       "  <tbody>\n",
       "    <tr>\n",
       "      <th>0</th>\n",
       "      <td>0.474335</td>\n",
       "      <td>0.881640</td>\n",
       "      <td>-2.050543</td>\n",
       "      <td>-1.251935</td>\n",
       "      <td>-1.035151</td>\n",
       "      <td>-1.934367</td>\n",
       "      <td>4</td>\n",
       "    </tr>\n",
       "    <tr>\n",
       "      <th>1</th>\n",
       "      <td>-1.034675</td>\n",
       "      <td>1.741801</td>\n",
       "      <td>-1.660629</td>\n",
       "      <td>-1.555989</td>\n",
       "      <td>-0.337553</td>\n",
       "      <td>-2.473838</td>\n",
       "      <td>0</td>\n",
       "    </tr>\n",
       "    <tr>\n",
       "      <th>2</th>\n",
       "      <td>-0.563221</td>\n",
       "      <td>-0.688381</td>\n",
       "      <td>-0.318415</td>\n",
       "      <td>-1.845172</td>\n",
       "      <td>0.352366</td>\n",
       "      <td>-0.912928</td>\n",
       "      <td>1</td>\n",
       "    </tr>\n",
       "    <tr>\n",
       "      <th>3</th>\n",
       "      <td>-1.268179</td>\n",
       "      <td>2.770688</td>\n",
       "      <td>1.054193</td>\n",
       "      <td>2.830389</td>\n",
       "      <td>0.395093</td>\n",
       "      <td>0.677715</td>\n",
       "      <td>3</td>\n",
       "    </tr>\n",
       "    <tr>\n",
       "      <th>4</th>\n",
       "      <td>-1.216380</td>\n",
       "      <td>-0.391267</td>\n",
       "      <td>-2.898931</td>\n",
       "      <td>-0.913074</td>\n",
       "      <td>-2.171857</td>\n",
       "      <td>-2.367490</td>\n",
       "      <td>0</td>\n",
       "    </tr>\n",
       "  </tbody>\n",
       "</table>\n",
       "</div>"
      ],
      "text/plain": [
       "   feature1  feature2  feature3  feature4  feature5  feature6  target\n",
       "0  0.474335  0.881640 -2.050543 -1.251935 -1.035151 -1.934367       4\n",
       "1 -1.034675  1.741801 -1.660629 -1.555989 -0.337553 -2.473838       0\n",
       "2 -0.563221 -0.688381 -0.318415 -1.845172  0.352366 -0.912928       1\n",
       "3 -1.268179  2.770688  1.054193  2.830389  0.395093  0.677715       3\n",
       "4 -1.216380 -0.391267 -2.898931 -0.913074 -2.171857 -2.367490       0"
      ]
     },
     "execution_count": 2,
     "metadata": {},
     "output_type": "execute_result"
    }
   ],
   "source": [
    "df_volcanes = pd.read_csv(\"jm_train.csv\")\n",
    "df_volcanes.head()"
   ]
  },
  {
   "cell_type": "markdown",
   "id": "9db35f1c",
   "metadata": {},
   "source": [
    "### Análisis exploratorio de los datos (EDA)  "
   ]
  },
  {
   "cell_type": "markdown",
   "id": "ecb49a78",
   "metadata": {},
   "source": [
    "En primer lugar, se comprueba la cantidad de datos que tiene el dataset, tanto el número de registros, como el número de variables (columnas). Tras esto, se procede a comprobar si, el conjunto de datos, contiene valores perdidos, cuántos y en qué variables se encuentran."
   ]
  },
  {
   "cell_type": "code",
   "execution_count": 3,
   "id": "f5d8fc52",
   "metadata": {},
   "outputs": [
    {
     "name": "stdout",
     "output_type": "stream",
     "text": [
      "El dataset contiene 2100 registros y 7 variables\n"
     ]
    }
   ],
   "source": [
    "# Total de registros y variables\n",
    "print(f\"El dataset contiene {df_volcanes.shape[0]} registros y {df_volcanes.shape[1]} variables\")"
   ]
  },
  {
   "cell_type": "code",
   "execution_count": 4,
   "id": "cf852d51",
   "metadata": {},
   "outputs": [
    {
     "name": "stdout",
     "output_type": "stream",
     "text": [
      "<class 'pandas.core.frame.DataFrame'>\n",
      "RangeIndex: 2100 entries, 0 to 2099\n",
      "Data columns (total 7 columns):\n",
      " #   Column    Non-Null Count  Dtype  \n",
      "---  ------    --------------  -----  \n",
      " 0   feature1  2100 non-null   float64\n",
      " 1   feature2  2100 non-null   float64\n",
      " 2   feature3  2100 non-null   float64\n",
      " 3   feature4  2100 non-null   float64\n",
      " 4   feature5  2100 non-null   float64\n",
      " 5   feature6  2100 non-null   float64\n",
      " 6   target    2100 non-null   int64  \n",
      "dtypes: float64(6), int64(1)\n",
      "memory usage: 115.0 KB\n"
     ]
    }
   ],
   "source": [
    "# Comprobación de nulos\n",
    "df_volcanes.info()"
   ]
  },
  {
   "cell_type": "markdown",
   "id": "cc202a6e",
   "metadata": {},
   "source": [
    "Tal y como se puede ver, no existen valores perdidos en ninguna variable. Además, la ejecución de la instrucción muestra los tipos de datos de cada variable. Todas ellas son de tipo float mientras que el *target* es de tipo int, como cabia esperar. A continuación se procede a mostrar el conjunto de estadísticos básicos."
   ]
  },
  {
   "cell_type": "code",
   "execution_count": 5,
   "id": "a4ee51f5",
   "metadata": {},
   "outputs": [
    {
     "data": {
      "text/html": [
       "<div>\n",
       "<style scoped>\n",
       "    .dataframe tbody tr th:only-of-type {\n",
       "        vertical-align: middle;\n",
       "    }\n",
       "\n",
       "    .dataframe tbody tr th {\n",
       "        vertical-align: top;\n",
       "    }\n",
       "\n",
       "    .dataframe thead th {\n",
       "        text-align: right;\n",
       "    }\n",
       "</style>\n",
       "<table border=\"1\" class=\"dataframe\">\n",
       "  <thead>\n",
       "    <tr style=\"text-align: right;\">\n",
       "      <th></th>\n",
       "      <th>feature1</th>\n",
       "      <th>feature2</th>\n",
       "      <th>feature3</th>\n",
       "      <th>feature4</th>\n",
       "      <th>feature5</th>\n",
       "      <th>feature6</th>\n",
       "      <th>target</th>\n",
       "    </tr>\n",
       "  </thead>\n",
       "  <tbody>\n",
       "    <tr>\n",
       "      <th>count</th>\n",
       "      <td>2100.000000</td>\n",
       "      <td>2100.000000</td>\n",
       "      <td>2100.000000</td>\n",
       "      <td>2100.000000</td>\n",
       "      <td>2100.000000</td>\n",
       "      <td>2100.000000</td>\n",
       "      <td>2100.000000</td>\n",
       "    </tr>\n",
       "    <tr>\n",
       "      <th>mean</th>\n",
       "      <td>-0.204656</td>\n",
       "      <td>0.199249</td>\n",
       "      <td>-0.378140</td>\n",
       "      <td>-0.206425</td>\n",
       "      <td>-0.186419</td>\n",
       "      <td>-0.433229</td>\n",
       "      <td>1.980476</td>\n",
       "    </tr>\n",
       "    <tr>\n",
       "      <th>std</th>\n",
       "      <td>1.543613</td>\n",
       "      <td>1.614024</td>\n",
       "      <td>1.450548</td>\n",
       "      <td>1.442225</td>\n",
       "      <td>1.501573</td>\n",
       "      <td>1.188791</td>\n",
       "      <td>1.410537</td>\n",
       "    </tr>\n",
       "    <tr>\n",
       "      <th>min</th>\n",
       "      <td>-6.683655</td>\n",
       "      <td>-5.383371</td>\n",
       "      <td>-6.147055</td>\n",
       "      <td>-5.653594</td>\n",
       "      <td>-5.912521</td>\n",
       "      <td>-4.433189</td>\n",
       "      <td>0.000000</td>\n",
       "    </tr>\n",
       "    <tr>\n",
       "      <th>25%</th>\n",
       "      <td>-1.171340</td>\n",
       "      <td>-0.877386</td>\n",
       "      <td>-1.365990</td>\n",
       "      <td>-1.259403</td>\n",
       "      <td>-1.211685</td>\n",
       "      <td>-1.131944</td>\n",
       "      <td>1.000000</td>\n",
       "    </tr>\n",
       "    <tr>\n",
       "      <th>50%</th>\n",
       "      <td>-0.443868</td>\n",
       "      <td>0.320507</td>\n",
       "      <td>-0.439745</td>\n",
       "      <td>-0.176504</td>\n",
       "      <td>-0.195751</td>\n",
       "      <td>-0.406754</td>\n",
       "      <td>2.000000</td>\n",
       "    </tr>\n",
       "    <tr>\n",
       "      <th>75%</th>\n",
       "      <td>0.890023</td>\n",
       "      <td>1.321430</td>\n",
       "      <td>0.662898</td>\n",
       "      <td>0.866879</td>\n",
       "      <td>0.851843</td>\n",
       "      <td>0.348593</td>\n",
       "      <td>3.000000</td>\n",
       "    </tr>\n",
       "    <tr>\n",
       "      <th>max</th>\n",
       "      <td>4.565547</td>\n",
       "      <td>6.700133</td>\n",
       "      <td>4.157518</td>\n",
       "      <td>4.371912</td>\n",
       "      <td>5.068783</td>\n",
       "      <td>4.016324</td>\n",
       "      <td>4.000000</td>\n",
       "    </tr>\n",
       "  </tbody>\n",
       "</table>\n",
       "</div>"
      ],
      "text/plain": [
       "          feature1     feature2     feature3     feature4     feature5  \\\n",
       "count  2100.000000  2100.000000  2100.000000  2100.000000  2100.000000   \n",
       "mean     -0.204656     0.199249    -0.378140    -0.206425    -0.186419   \n",
       "std       1.543613     1.614024     1.450548     1.442225     1.501573   \n",
       "min      -6.683655    -5.383371    -6.147055    -5.653594    -5.912521   \n",
       "25%      -1.171340    -0.877386    -1.365990    -1.259403    -1.211685   \n",
       "50%      -0.443868     0.320507    -0.439745    -0.176504    -0.195751   \n",
       "75%       0.890023     1.321430     0.662898     0.866879     0.851843   \n",
       "max       4.565547     6.700133     4.157518     4.371912     5.068783   \n",
       "\n",
       "          feature6       target  \n",
       "count  2100.000000  2100.000000  \n",
       "mean     -0.433229     1.980476  \n",
       "std       1.188791     1.410537  \n",
       "min      -4.433189     0.000000  \n",
       "25%      -1.131944     1.000000  \n",
       "50%      -0.406754     2.000000  \n",
       "75%       0.348593     3.000000  \n",
       "max       4.016324     4.000000  "
      ]
     },
     "execution_count": 5,
     "metadata": {},
     "output_type": "execute_result"
    }
   ],
   "source": [
    "df_volcanes.describe()"
   ]
  },
  {
   "cell_type": "markdown",
   "id": "54f85696",
   "metadata": {},
   "source": [
    "Referente a los estadísticos, no hay mucha información reelevante que pueda comentarse. Algunos datos que se podrían destacar como curiosidad son que, los mínimos de las variables fluctúan entre -6.68 y -4.43 siéndo los máximos similares pero de signo positivo. Por otro lado en cuanto al *target* se puede ver que mínimo es de 0 y máximo 4, cosa que concuerda con cada una de las clases a predecir. Como se comentaba anteriormente, no se encuentran datos que merezcan una atención especial."
   ]
  },
  {
   "cell_type": "markdown",
   "id": "190206f5",
   "metadata": {},
   "source": [
    "A continuación se comprueba si los datos estan o no balanceados, es decir, si la representación de alguna de las clases a predecir (*target*) es muy elevada, en número, con respecto a otras. Una forma sencilla de poder comprobar este aspecto es mediante una gráfica de barras."
   ]
  },
  {
   "cell_type": "code",
   "execution_count": 6,
   "id": "de7ae4ea",
   "metadata": {},
   "outputs": [
    {
     "data": {
      "image/png": "[encoded data removed]",
      "text/plain": [
       "<Figure size 720x432 with 1 Axes>"
      ]
     },
     "metadata": {},
     "output_type": "display_data"
    }
   ],
   "source": [
    "plt.figure(figsize=(10,6))\n",
    "ax = sns.countplot(df_volcanes['target'])\n",
    "ax.set_title(\"Comprobacion balanceado de los datos\\n\", fontsize=20)\n",
    "ax.set_xlabel('Target')\n",
    "ax.set_ylabel('Total')\n",
    "\n",
    "# Posicionamiento de las anotaciones de las barras\n",
    "maxValueBars = max([bar.get_height() for bar in ax.patches]) # Se extrae el valor máximo\n",
    "for val in ax.patches:\n",
    "    ax.text((val.get_x()-0.05 + val.get_width()/2), maxValueBars + 5, f'{val.get_height()}')\n",
    "plt.show()"
   ]
  },
  {
   "cell_type": "markdown",
   "id": "d828e06a",
   "metadata": {},
   "source": [
    "El gráfico permite ver con facilidad que las clases tienen una representación similar en el conjunto de datos. De todos modos, se implementará algún modelo con equilibrado de clases por si se logra una mejora en las predicciones."
   ]
  },
  {
   "cell_type": "markdown",
   "id": "1a8a4f06",
   "metadata": {},
   "source": [
    "También es interesante ver cómo están distribuidos los datos dentro de cada una de las variables, excluyendo el *target*. Para ello se presentan las siguientes graficas de densidad, donde muestran claramente la distribución que toman los datos."
   ]
  },
  {
   "cell_type": "code",
   "execution_count": 7,
   "id": "5f16d529",
   "metadata": {},
   "outputs": [
    {
     "data": {
      "image/png": "[encoded data removed]",
      "text/plain": [
       "<Figure size 1440x288 with 6 Axes>"
      ]
     },
     "metadata": {},
     "output_type": "display_data"
    }
   ],
   "source": [
    "fig, ax = plt.subplots(nrows=1, ncols=6, figsize=(20,4))\n",
    "ax = ax.flatten()\n",
    "for x, i in enumerate(df_volcanes.iloc[:,:-1]):\n",
    "    sns.distplot(df_volcanes[i], ax=ax[x])\n",
    "plt.tight_layout(pad=0.6)\n",
    "plt.show()"
   ]
  },
  {
   "cell_type": "markdown",
   "id": "81fdadd9",
   "metadata": {},
   "source": [
    "Se puede ver claramente que los datos muestran distribuciones similares a una distribución normal. Finalmente, otra observación útil, hace referencia a la presencia, o no, de *outliers*. También, para observar fácilmente este aspecto, se procede a representar gráficamente los datos en *boxplots*."
   ]
  },
  {
   "cell_type": "code",
   "execution_count": 8,
   "id": "ec4c5e26",
   "metadata": {},
   "outputs": [
    {
     "data": {
      "image/png": "[encoded data removed]",
      "text/plain": [
       "<Figure size 1440x288 with 6 Axes>"
      ]
     },
     "metadata": {},
     "output_type": "display_data"
    }
   ],
   "source": [
    "fig, ax = plt.subplots(nrows=1, ncols=6, figsize=(20, 4))\n",
    "ax = ax.flatten()\n",
    "for x, i in enumerate(df_volcanes.iloc[:,:-1]):\n",
    "    sns.boxplot(data=df_volcanes, y=i, ax=ax[x])\n",
    "plt.tight_layout(pad=0.6)\n",
    "plt.show()"
   ]
  },
  {
   "cell_type": "markdown",
   "id": "3be3f658",
   "metadata": {},
   "source": [
    "Tras visualizar las gŕaficas, se puede ver que existen algunos *outliers* en algunas de las variables. Random Forest no se ve muy influenciado por los *outliers*. De todos modos, se realizarán modelos con y sin estos valores. Para detectarlos se calcula el rango intercuartilico(iqr) que es la diferencia entre el cuartil 3 y el cuartil 1. Se consideran *outliers* aquellos datos que se encuentren 1.5 veces por encima o por debajo del iqr."
   ]
  },
  {
   "cell_type": "code",
   "execution_count": 9,
   "id": "bc004eb0",
   "metadata": {},
   "outputs": [],
   "source": [
    "# Detectar outliers\n",
    "# Calculo del rango intercuartilico\n",
    "def eliminar_outliers(df):\n",
    "    '''\n",
    "    Funcion que calcula el rango intercuartilico (iqr) y elimina aquellos valores alejados 1.5 desviaciones del iqr\n",
    "    \n",
    "    Parametros: El dataframe original\n",
    "    \n",
    "    Retorna: El dataframe sin los outliers\n",
    "    '''\n",
    "    q1, q3 = df.quantile(0.25), df.quantile(0.75)\n",
    "    iqr = q3-q1\n",
    "    lower, upper = q1-1.5*iqr, q3+1.5*iqr\n",
    "    # Filtrado de outliers\n",
    "    df_sinOutliers = df[~((df<lower) | (df>upper)).any(axis=1)]\n",
    "    return df_sinOutliers"
   ]
  },
  {
   "cell_type": "markdown",
   "id": "0cc9fda8",
   "metadata": {},
   "source": [
    "### Preparación de los datos para el modelado"
   ]
  },
  {
   "cell_type": "markdown",
   "id": "431a2ca5",
   "metadata": {},
   "source": [
    "En primer lugar, para cada uno de los datasets, se van a dividir los datos dejando los predictores en una variable X (X_so para el dataset sin *outliers*) y el *target* en la variable y (y_so para el dataset sin *outliers*)."
   ]
  },
  {
   "cell_type": "code",
   "execution_count": 10,
   "id": "4b1aad8d",
   "metadata": {},
   "outputs": [],
   "source": [
    "# Con Outliers\n",
    "y = df_volcanes['target']\n",
    "X = df_volcanes.drop(['target'], axis=1)\n",
    "# Sin Outliers\n",
    "df_volcanes_sinOutliers = eliminar_outliers(df_volcanes)\n",
    "y_so = df_volcanes_sinOutliers['target']\n",
    "X_so = df_volcanes_sinOutliers.drop(['target'], axis=1)"
   ]
  },
  {
   "cell_type": "markdown",
   "id": "2bb23dcf",
   "metadata": {},
   "source": [
    "Y, finalmente se dividen los datos en conjuntos de entrenamiento y test"
   ]
  },
  {
   "cell_type": "code",
   "execution_count": 11,
   "id": "38f532a2",
   "metadata": {},
   "outputs": [
    {
     "name": "stdout",
     "output_type": "stream",
     "text": [
      "Con outliers -> x_train:(1470, 6) -- x_test:(630, 6) -- y_train:(1470,) -- y_test:(630,)\n",
      "Con outliers -> x_train:(1408, 6) -- x_test:(604, 6) -- y_train:(1408,) -- y_test:(604,)\n"
     ]
    }
   ],
   "source": [
    "# Con Outliers\n",
    "x_train, x_test, y_train, y_test = train_test_split(X, y, test_size=0.3, random_state=42)\n",
    "print(f\"Con outliers -> x_train:{x_train.shape} -- x_test:{x_test.shape} -- y_train:{y_train.shape} -- y_test:{y_test.shape}\")\n",
    "# Sin Outliers\n",
    "xso_train, xso_test, yso_train, yso_test = train_test_split(X_so, y_so, test_size=0.3, random_state=42)\n",
    "print(f\"Con outliers -> x_train:{xso_train.shape} -- x_test:{xso_test.shape} -- y_train:{yso_train.shape} -- y_test:{yso_test.shape}\")"
   ]
  },
  {
   "cell_type": "markdown",
   "id": "24d4a3bd",
   "metadata": {},
   "source": [
    "Una vez en este punto, se genra una función que permitirá crear cada uno de los modelos de Random Forest y devolver un dataframe con el mejor resultado obtenido"
   ]
  },
  {
   "cell_type": "code",
   "execution_count": 12,
   "id": "f54b0695",
   "metadata": {},
   "outputs": [],
   "source": [
    "def crear_modelos(x_train, y_train, x_test, y_test, algoritmo):\n",
    "    '''\n",
    "    Función que calcula distintos Random Forest.\n",
    "    \n",
    "    El cálculo se realiza aportando distintas configuraciones mediante ParameterGrid. \n",
    "    Para cada una de las configuraciones se ejecuta el modelo y se guarda el resultado\n",
    "    en un dataframe, junto con su valor de f1-score macro.\n",
    "    \n",
    "    Parametros: Recibe los datos de entrenamiento y test correspondientes\n",
    "    \n",
    "    Retorna: La primera fila del dataframe, ordenado en función del mayor valor f1-score\n",
    "    '''\n",
    "    \n",
    "    resultados = {'params':[], 'f1':[]}\n",
    "    \n",
    "    param_grid = ParameterGrid({\n",
    "        \"n_estimators\":[100, 150, 200],\n",
    "        \"criterion\": [\"gini\",\"entropy\"], # calidad division\n",
    "        \"max_depth\": [None, 10, 20, 50, 100, 200], # profundidad\n",
    "        \"max_features\": [3, 4, 5, \"sqrt\"], # características a buscar\n",
    "        \"min_samples_split\": [2,3,4]\n",
    "        })    \n",
    "\n",
    "    for params in param_grid:\n",
    "        modelo = algoritmo(oob_score=False,\n",
    "                                      n_jobs = -1,\n",
    "                                      random_state = 42,\n",
    "                                      ** params)\n",
    "        \n",
    "        modelo.fit(x_train, y_train)\n",
    "        y_pred = modelo.predict(x_test)\n",
    "        score = (f1_score(y_test, y_pred, average='macro'))\n",
    "        resultados['params'].append(params)\n",
    "        resultados['f1'].append(score)\n",
    "        \n",
    "    # Se crea el dataframe mediante el diccionario generado\n",
    "    res = pd.DataFrame.from_dict(resultados['params'])\n",
    "    res['f1'] = resultados['f1']\n",
    "    res = res.sort_values('f1', ascending=False).reset_index()\n",
    "    return res.head(1)"
   ]
  },
  {
   "cell_type": "markdown",
   "id": "e1d411ff",
   "metadata": {},
   "source": [
    "Ahora, se generan 2 modelos. El primero de ellos para el dataset que contiene *outliers* y, el segundo, para el que no los contiene. De esta forma se puede evaluar con qué datos se obtiene un mejor resultado."
   ]
  },
  {
   "cell_type": "code",
   "execution_count": 13,
   "id": "4d317a05",
   "metadata": {},
   "outputs": [
    {
     "data": {
      "text/html": [
       "<div>\n",
       "<style scoped>\n",
       "    .dataframe tbody tr th:only-of-type {\n",
       "        vertical-align: middle;\n",
       "    }\n",
       "\n",
       "    .dataframe tbody tr th {\n",
       "        vertical-align: top;\n",
       "    }\n",
       "\n",
       "    .dataframe thead th {\n",
       "        text-align: right;\n",
       "    }\n",
       "</style>\n",
       "<table border=\"1\" class=\"dataframe\">\n",
       "  <thead>\n",
       "    <tr style=\"text-align: right;\">\n",
       "      <th></th>\n",
       "      <th>index</th>\n",
       "      <th>criterion</th>\n",
       "      <th>max_depth</th>\n",
       "      <th>max_features</th>\n",
       "      <th>min_samples_split</th>\n",
       "      <th>n_estimators</th>\n",
       "      <th>f1</th>\n",
       "      <th>x_train</th>\n",
       "      <th>y_train</th>\n",
       "      <th>x_test</th>\n",
       "      <th>y_test</th>\n",
       "    </tr>\n",
       "  </thead>\n",
       "  <tbody>\n",
       "    <tr>\n",
       "      <th>0</th>\n",
       "      <td>429</td>\n",
       "      <td>entropy</td>\n",
       "      <td>200.0</td>\n",
       "      <td>sqrt</td>\n",
       "      <td>4</td>\n",
       "      <td>100</td>\n",
       "      <td>0.781335</td>\n",
       "      <td>x_train</td>\n",
       "      <td>y_train</td>\n",
       "      <td>x_test</td>\n",
       "      <td>y_test</td>\n",
       "    </tr>\n",
       "    <tr>\n",
       "      <th>1</th>\n",
       "      <td>330</td>\n",
       "      <td>entropy</td>\n",
       "      <td>50.0</td>\n",
       "      <td>3</td>\n",
       "      <td>4</td>\n",
       "      <td>100</td>\n",
       "      <td>0.774760</td>\n",
       "      <td>xso_train</td>\n",
       "      <td>yso_train</td>\n",
       "      <td>xso_test</td>\n",
       "      <td>yso_test</td>\n",
       "    </tr>\n",
       "  </tbody>\n",
       "</table>\n",
       "</div>"
      ],
      "text/plain": [
       "   index criterion  max_depth max_features  min_samples_split  n_estimators  \\\n",
       "0    429   entropy      200.0         sqrt                  4           100   \n",
       "1    330   entropy       50.0            3                  4           100   \n",
       "\n",
       "         f1    x_train    y_train    x_test    y_test  \n",
       "0  0.781335    x_train    y_train    x_test    y_test  \n",
       "1  0.774760  xso_train  yso_train  xso_test  yso_test  "
      ]
     },
     "execution_count": 13,
     "metadata": {},
     "output_type": "execute_result"
    }
   ],
   "source": [
    "# Generar modelo con los datos con outliers\n",
    "mejor_con_outliers = crear_modelos(x_train, y_train, x_test, y_test, RandomForestClassifier)\n",
    "mejor_con_outliers[['x_train','y_train','x_test','y_test']]= 'x_train', 'y_train', 'x_test', 'y_test'\n",
    "\n",
    "# Generar modelo con los datos sin outliers\n",
    "mejor_sin_outliers = crear_modelos(xso_train, yso_train, xso_test, yso_test, RandomForestClassifier)\n",
    "mejor_sin_outliers[['x_train','y_train','x_test','y_test']]= 'xso_train', 'yso_train', 'xso_test', 'yso_test' \n",
    "\n",
    "# Dataframe con los mejores resultados de cada modelo\n",
    "resultado_modelos = pd.concat([mejor_con_outliers, mejor_sin_outliers]).reset_index(drop=True)\n",
    "resultado_modelos"
   ]
  },
  {
   "cell_type": "markdown",
   "id": "5fba6e41",
   "metadata": {},
   "source": [
    "De entre los mejores resultados de cada conjunto de datos, se escoge el que tiene un valor mayor en la columna f1. Estos serán los mejores parametros para el RandomForest en función de los datos. "
   ]
  },
  {
   "cell_type": "code",
   "execution_count": 14,
   "id": "1ebe5d99",
   "metadata": {},
   "outputs": [
    {
     "data": {
      "text/plain": [
       "index                     429\n",
       "criterion             entropy\n",
       "max_depth               200.0\n",
       "max_features             sqrt\n",
       "min_samples_split           4\n",
       "n_estimators              100\n",
       "f1                   0.781335\n",
       "x_train               x_train\n",
       "y_train               y_train\n",
       "x_test                 x_test\n",
       "y_test                 y_test\n",
       "Name: 0, dtype: object"
      ]
     },
     "execution_count": 14,
     "metadata": {},
     "output_type": "execute_result"
    }
   ],
   "source": [
    "# Se escoge el mejor de los 2 modelos\n",
    "mejor_modelo = resultado_modelos.loc[resultado_modelos['f1'].idxmax()]\n",
    "mejor_modelo"
   ]
  },
  {
   "cell_type": "markdown",
   "id": "483bfac3",
   "metadata": {},
   "source": [
    "Finalmente se ejecuta el algoritmo con los datos de test y se calculan las predicciones"
   ]
  },
  {
   "cell_type": "code",
   "execution_count": 15,
   "id": "ba51ba1b",
   "metadata": {},
   "outputs": [],
   "source": [
    "# Se evalúa si max_depth contiene nan\n",
    "if np.isnan(mejor_modelo['max_depth']):\n",
    "    mejor_modelo['max_depth'] = None\n",
    "    \n",
    "# Seleccion del modelo final\n",
    "modelo_final_RF = RandomForestClassifier(criterion=mejor_modelo['criterion'],\n",
    "                                     max_depth=int(mejor_modelo['max_depth']),\n",
    "                                     max_features=mejor_modelo['max_features'],\n",
    "                                     min_samples_split=mejor_modelo['min_samples_split'],\n",
    "                                     n_estimators=mejor_modelo['n_estimators'],\n",
    "                                     n_jobs=-1,\n",
    "                                     random_state=42,\n",
    "                                     oob_score=False)\n",
    "\n",
    "# Entreno y predicciones del modelo final\n",
    "modelo_final_RF.fit(eval(mejor_modelo[7]), eval(mejor_modelo[8]))\n",
    "y_pred = modelo_final_RF.predict(eval(mejor_modelo[9]))"
   ]
  },
  {
   "cell_type": "markdown",
   "id": "28daab11",
   "metadata": {},
   "source": [
    "Una buena forma de ver el resultado obtenido con los datos de test, es generar una matriz de confusion, mediante la cual, es posible ver qué datos se han clasificado correctamente y cuales no."
   ]
  },
  {
   "cell_type": "code",
   "execution_count": 16,
   "id": "43045e47",
   "metadata": {},
   "outputs": [
    {
     "data": {
      "image/png": "[encoded data removed]",
      "text/plain": [
       "<Figure size 432x288 with 2 Axes>"
      ]
     },
     "metadata": {},
     "output_type": "display_data"
    }
   ],
   "source": [
    "cm = confusion_matrix(eval(mejor_modelo[10]), y_pred)\n",
    "cmd = ConfusionMatrixDisplay(confusion_matrix=cm)\n",
    "cmd.plot()\n",
    "plt.grid(None)\n",
    "plt.show()"
   ]
  },
  {
   "cell_type": "markdown",
   "id": "7ddee62a",
   "metadata": {},
   "source": [
    "Finalmente, se calcula el score (f1-macro en este caso)"
   ]
  },
  {
   "cell_type": "code",
   "execution_count": 17,
   "id": "1c54888e",
   "metadata": {},
   "outputs": [
    {
     "data": {
      "text/plain": [
       "0.7813347755175316"
      ]
     },
     "execution_count": 17,
     "metadata": {},
     "output_type": "execute_result"
    }
   ],
   "source": [
    "score = (f1_score(eval(mejor_modelo[10]), y_pred, average='macro'))\n",
    "score"
   ]
  },
  {
   "cell_type": "markdown",
   "id": "b13d4ffd",
   "metadata": {},
   "source": [
    "Se crea un dataframe donde se almacenarán los resultados de cada modelo a modo de resúmen"
   ]
  },
  {
   "cell_type": "code",
   "execution_count": 18,
   "id": "15135c30",
   "metadata": {},
   "outputs": [],
   "source": [
    "resumen = pd.DataFrame({\"Modelo\":[\"Random Forest\"], \"Score_f1-macro\":[score], \"Modelo_Final\":['modelo_final_RF']})"
   ]
  },
  {
   "cell_type": "markdown",
   "id": "2a14a0f4",
   "metadata": {},
   "source": [
    "### Predicciones con datos balanceados"
   ]
  },
  {
   "cell_type": "markdown",
   "id": "12893b40",
   "metadata": {},
   "source": [
    "Como se comentaba al principio de este documento, los datos mostraban un lijero balanceo, es decir, hay clases que contienen más datos que otras, aunque no en gran medida. Una vez se han obtenido los resultados sin tener en cuenta esto, pueden realizarse algunas pruebas para comprobar si se mejora la predicción del modelo. \n",
    "Se realizará:  \n",
    "\n",
    "1- Se aplicará el modelo Balanced Random Forest de la librería Imbalanced Learn ([info](https://imbalanced-learn.org/stable/references/generated/imblearn.ensemble.BalancedRandomForestClassifier.html?highlight=random%20fores#imblearn.ensemble.BalancedRandomForestClassifier))  \n",
    "\n",
    "2- Se aplicará SMOTE (over-sampling) en los datos, de forma que todas las clases tengan la misma representación ([info](https://imbalanced-learn.org/stable/references/generated/imblearn.over_sampling.SMOTE.html))\n"
   ]
  },
  {
   "cell_type": "markdown",
   "id": "50a119e0",
   "metadata": {},
   "source": [
    "### 1- Balanced Random Forest\n",
    "\n",
    "Una de las primeras pruebas a realizar será la utilizacion de Balanced Random Forest Classifier de la libreria Imbalanced Learn. Para ello se utilizan los mismos datos anteriores pero esta vez, en la llamada a la función se enviará este método. Debido a que los pasos a realizar son los mismos o similares a los aplicados en Random Forest anterior, se obvian las explicaciones de cada paso."
   ]
  },
  {
   "cell_type": "code",
   "execution_count": 19,
   "id": "909e9928",
   "metadata": {},
   "outputs": [
    {
     "data": {
      "text/html": [
       "<div>\n",
       "<style scoped>\n",
       "    .dataframe tbody tr th:only-of-type {\n",
       "        vertical-align: middle;\n",
       "    }\n",
       "\n",
       "    .dataframe tbody tr th {\n",
       "        vertical-align: top;\n",
       "    }\n",
       "\n",
       "    .dataframe thead th {\n",
       "        text-align: right;\n",
       "    }\n",
       "</style>\n",
       "<table border=\"1\" class=\"dataframe\">\n",
       "  <thead>\n",
       "    <tr style=\"text-align: right;\">\n",
       "      <th></th>\n",
       "      <th>index</th>\n",
       "      <th>criterion</th>\n",
       "      <th>max_depth</th>\n",
       "      <th>max_features</th>\n",
       "      <th>min_samples_split</th>\n",
       "      <th>n_estimators</th>\n",
       "      <th>f1</th>\n",
       "      <th>x_train</th>\n",
       "      <th>y_train</th>\n",
       "      <th>x_test</th>\n",
       "      <th>y_test</th>\n",
       "    </tr>\n",
       "  </thead>\n",
       "  <tbody>\n",
       "    <tr>\n",
       "      <th>0</th>\n",
       "      <td>159</td>\n",
       "      <td>gini</td>\n",
       "      <td>100.0</td>\n",
       "      <td>4</td>\n",
       "      <td>4</td>\n",
       "      <td>100</td>\n",
       "      <td>0.786307</td>\n",
       "      <td>x_train</td>\n",
       "      <td>y_train</td>\n",
       "      <td>x_test</td>\n",
       "      <td>y_test</td>\n",
       "    </tr>\n",
       "    <tr>\n",
       "      <th>1</th>\n",
       "      <td>190</td>\n",
       "      <td>gini</td>\n",
       "      <td>200.0</td>\n",
       "      <td>4</td>\n",
       "      <td>2</td>\n",
       "      <td>150</td>\n",
       "      <td>0.769902</td>\n",
       "      <td>xso_train</td>\n",
       "      <td>yso_train</td>\n",
       "      <td>xso_test</td>\n",
       "      <td>yso_test</td>\n",
       "    </tr>\n",
       "  </tbody>\n",
       "</table>\n",
       "</div>"
      ],
      "text/plain": [
       "   index criterion  max_depth max_features  min_samples_split  n_estimators  \\\n",
       "0    159      gini      100.0            4                  4           100   \n",
       "1    190      gini      200.0            4                  2           150   \n",
       "\n",
       "         f1    x_train    y_train    x_test    y_test  \n",
       "0  0.786307    x_train    y_train    x_test    y_test  \n",
       "1  0.769902  xso_train  yso_train  xso_test  yso_test  "
      ]
     },
     "execution_count": 19,
     "metadata": {},
     "output_type": "execute_result"
    }
   ],
   "source": [
    "# Generar modelo con los datos con outliers\n",
    "mejor_con_outliers = crear_modelos(x_train, y_train, x_test, y_test, BalancedRandomForestClassifier)\n",
    "mejor_con_outliers[['x_train','y_train','x_test','y_test']]= 'x_train', 'y_train', 'x_test', 'y_test'\n",
    "\n",
    "# Generar modelo con los datos sin outliers\n",
    "mejor_sin_outliers = crear_modelos(xso_train, yso_train, xso_test, yso_test, BalancedRandomForestClassifier)\n",
    "mejor_sin_outliers[['x_train','y_train','x_test','y_test']]= 'xso_train', 'yso_train', 'xso_test', 'yso_test' \n",
    "\n",
    "# Dataframe con los mejores resultados de cada modelo\n",
    "resultado_modelos = pd.concat([mejor_con_outliers, mejor_sin_outliers]).reset_index(drop=True)\n",
    "resultado_modelos"
   ]
  },
  {
   "cell_type": "code",
   "execution_count": 20,
   "id": "88994488",
   "metadata": {},
   "outputs": [
    {
     "data": {
      "text/plain": [
       "index                     159\n",
       "criterion                gini\n",
       "max_depth               100.0\n",
       "max_features                4\n",
       "min_samples_split           4\n",
       "n_estimators              100\n",
       "f1                   0.786307\n",
       "x_train               x_train\n",
       "y_train               y_train\n",
       "x_test                 x_test\n",
       "y_test                 y_test\n",
       "Name: 0, dtype: object"
      ]
     },
     "execution_count": 20,
     "metadata": {},
     "output_type": "execute_result"
    }
   ],
   "source": [
    "# Se escoge el mejor de los 2 modelos\n",
    "mejor_modelo = resultado_modelos.loc[resultado_modelos['f1'].idxmax()]\n",
    "mejor_modelo"
   ]
  },
  {
   "cell_type": "code",
   "execution_count": 21,
   "id": "aaba379d",
   "metadata": {},
   "outputs": [],
   "source": [
    "# Se evalúa si max_depth contiene nan\n",
    "if np.isnan(mejor_modelo['max_depth']):\n",
    "    mejor_modelo['max_depth'] = None\n",
    "    \n",
    "# Seleccion del modelo final\n",
    "modelo_final_BRF = BalancedRandomForestClassifier(criterion=mejor_modelo['criterion'],\n",
    "                                     max_depth=int(mejor_modelo['max_depth']),\n",
    "                                     max_features=mejor_modelo['max_features'],\n",
    "                                     min_samples_split=mejor_modelo['min_samples_split'],\n",
    "                                     n_estimators=mejor_modelo['n_estimators'],\n",
    "                                     n_jobs=-1,\n",
    "                                     random_state=42,\n",
    "                                     oob_score=False)\n",
    "\n",
    "# Entreno y predicciones del modelo final\n",
    "modelo_final_BRF.fit(eval(mejor_modelo[7]), eval(mejor_modelo[8]))\n",
    "y_pred = modelo_final_BRF.predict(eval(mejor_modelo[9]))"
   ]
  },
  {
   "cell_type": "code",
   "execution_count": 22,
   "id": "d4d0fdc3",
   "metadata": {},
   "outputs": [
    {
     "data": {
      "image/png": "[encoded data removed]",
      "text/plain": [
       "<Figure size 432x288 with 2 Axes>"
      ]
     },
     "metadata": {},
     "output_type": "display_data"
    }
   ],
   "source": [
    "# Matriz de confusion\n",
    "cm = confusion_matrix(eval(mejor_modelo[10]), y_pred)\n",
    "cmd = ConfusionMatrixDisplay(confusion_matrix=cm)\n",
    "cmd.plot()\n",
    "plt.grid(None)\n",
    "plt.show()"
   ]
  },
  {
   "cell_type": "code",
   "execution_count": 23,
   "id": "d6f0050a",
   "metadata": {},
   "outputs": [
    {
     "data": {
      "text/plain": [
       "0.786307317980363"
      ]
     },
     "execution_count": 23,
     "metadata": {},
     "output_type": "execute_result"
    }
   ],
   "source": [
    "# Se presenta el score obtenido y se guarda en el dataframe de resumen\n",
    "score = (f1_score(eval(mejor_modelo[10]), y_pred, average='macro'))\n",
    "resumen.loc[1] = [\"Balanced Random Forest\", score, 'modelo_final_BRF'] \n",
    "score"
   ]
  },
  {
   "cell_type": "markdown",
   "id": "5270e0e3",
   "metadata": {},
   "source": [
    "### 2- Smote"
   ]
  },
  {
   "cell_type": "code",
   "execution_count": 24,
   "id": "ba157ca6",
   "metadata": {},
   "outputs": [
    {
     "name": "stdout",
     "output_type": "stream",
     "text": [
      "Tamaño de los datos con outliers una vez hecho el resample: Counter({4: 427, 0: 427, 1: 427, 3: 427, 2: 427})\n",
      "Tamaño de los datos sin outliers una vez hecho el resample: Counter({4: 418, 0: 418, 1: 418, 3: 418, 2: 418})\n"
     ]
    }
   ],
   "source": [
    "# Se aplica la técnica tanto a los datos con outliers como a los que no tienen\n",
    "smote = SMOTE(random_state=42)\n",
    "X_smote, y_smote =smote.fit_resample(X, y)\n",
    "X_so_smote, y_so_smote = smote.fit_resample(X_so, y_so)\n",
    "print(f\"Tamaño de los datos con outliers una vez hecho el resample: {Counter(y_smote)}\")\n",
    "print(f\"Tamaño de los datos sin outliers una vez hecho el resample: {Counter(y_so_smote)}\")"
   ]
  },
  {
   "cell_type": "code",
   "execution_count": 25,
   "id": "77d55b57",
   "metadata": {},
   "outputs": [
    {
     "name": "stdout",
     "output_type": "stream",
     "text": [
      "Con outliers -> x_train:(1494, 6) -- x_test:(641, 6) -- y_train:(1494,) -- y_test:(641,)\n",
      "Con outliers -> x_train:(1463, 6) -- x_test:(627, 6) -- y_train:(1463,) -- y_test:(627,)\n"
     ]
    }
   ],
   "source": [
    "# Con Outliers\n",
    "x_train, x_test, y_train, y_test = train_test_split(X_smote, y_smote, test_size=0.3, random_state=42)\n",
    "print(f\"Con outliers -> x_train:{x_train.shape} -- x_test:{x_test.shape} -- y_train:{y_train.shape} -- y_test:{y_test.shape}\")\n",
    "# Sin Outliers\n",
    "xso_train, xso_test, yso_train, yso_test = train_test_split(X_so_smote, y_so_smote, test_size=0.3, random_state=42)\n",
    "print(f\"Con outliers -> x_train:{xso_train.shape} -- x_test:{xso_test.shape} -- y_train:{yso_train.shape} -- y_test:{yso_test.shape}\")"
   ]
  },
  {
   "cell_type": "code",
   "execution_count": 26,
   "id": "611defd7",
   "metadata": {},
   "outputs": [
    {
     "data": {
      "text/html": [
       "<div>\n",
       "<style scoped>\n",
       "    .dataframe tbody tr th:only-of-type {\n",
       "        vertical-align: middle;\n",
       "    }\n",
       "\n",
       "    .dataframe tbody tr th {\n",
       "        vertical-align: top;\n",
       "    }\n",
       "\n",
       "    .dataframe thead th {\n",
       "        text-align: right;\n",
       "    }\n",
       "</style>\n",
       "<table border=\"1\" class=\"dataframe\">\n",
       "  <thead>\n",
       "    <tr style=\"text-align: right;\">\n",
       "      <th></th>\n",
       "      <th>index</th>\n",
       "      <th>criterion</th>\n",
       "      <th>max_depth</th>\n",
       "      <th>max_features</th>\n",
       "      <th>min_samples_split</th>\n",
       "      <th>n_estimators</th>\n",
       "      <th>f1</th>\n",
       "      <th>x_train</th>\n",
       "      <th>y_train</th>\n",
       "      <th>x_test</th>\n",
       "      <th>y_test</th>\n",
       "    </tr>\n",
       "  </thead>\n",
       "  <tbody>\n",
       "    <tr>\n",
       "      <th>0</th>\n",
       "      <td>255</td>\n",
       "      <td>entropy</td>\n",
       "      <td>10.0</td>\n",
       "      <td>3</td>\n",
       "      <td>3</td>\n",
       "      <td>100</td>\n",
       "      <td>0.776991</td>\n",
       "      <td>x_train</td>\n",
       "      <td>y_train</td>\n",
       "      <td>x_test</td>\n",
       "      <td>y_test</td>\n",
       "    </tr>\n",
       "    <tr>\n",
       "      <th>1</th>\n",
       "      <td>15</td>\n",
       "      <td>gini</td>\n",
       "      <td>NaN</td>\n",
       "      <td>4</td>\n",
       "      <td>4</td>\n",
       "      <td>100</td>\n",
       "      <td>0.776653</td>\n",
       "      <td>xso_train</td>\n",
       "      <td>yso_train</td>\n",
       "      <td>xso_test</td>\n",
       "      <td>yso_test</td>\n",
       "    </tr>\n",
       "  </tbody>\n",
       "</table>\n",
       "</div>"
      ],
      "text/plain": [
       "   index criterion  max_depth max_features  min_samples_split  n_estimators  \\\n",
       "0    255   entropy       10.0            3                  3           100   \n",
       "1     15      gini        NaN            4                  4           100   \n",
       "\n",
       "         f1    x_train    y_train    x_test    y_test  \n",
       "0  0.776991    x_train    y_train    x_test    y_test  \n",
       "1  0.776653  xso_train  yso_train  xso_test  yso_test  "
      ]
     },
     "execution_count": 26,
     "metadata": {},
     "output_type": "execute_result"
    }
   ],
   "source": [
    "# Generar modelo con los datos con outliers\n",
    "mejor_con_outliers = crear_modelos(x_train, y_train, x_test, y_test, RandomForestClassifier)\n",
    "mejor_con_outliers[['x_train','y_train','x_test','y_test']]= 'x_train', 'y_train', 'x_test', 'y_test'\n",
    "\n",
    "# Generar modelo con los datos sin outliers\n",
    "mejor_sin_outliers = crear_modelos(xso_train, yso_train, xso_test, yso_test, RandomForestClassifier)\n",
    "mejor_sin_outliers[['x_train','y_train','x_test','y_test']]= 'xso_train', 'yso_train', 'xso_test', 'yso_test' \n",
    "\n",
    "# Dataframe con los mejores resultados de cada modelo\n",
    "resultado_modelos = pd.concat([mejor_con_outliers, mejor_sin_outliers]).reset_index(drop=True)\n",
    "resultado_modelos"
   ]
  },
  {
   "cell_type": "code",
   "execution_count": 27,
   "id": "8859a8a3",
   "metadata": {},
   "outputs": [
    {
     "data": {
      "text/plain": [
       "index                     255\n",
       "criterion             entropy\n",
       "max_depth                10.0\n",
       "max_features                3\n",
       "min_samples_split           3\n",
       "n_estimators              100\n",
       "f1                   0.776991\n",
       "x_train               x_train\n",
       "y_train               y_train\n",
       "x_test                 x_test\n",
       "y_test                 y_test\n",
       "Name: 0, dtype: object"
      ]
     },
     "execution_count": 27,
     "metadata": {},
     "output_type": "execute_result"
    }
   ],
   "source": [
    "# Se escoge el mejor de los 2 modelos\n",
    "mejor_modelo = resultado_modelos.loc[resultado_modelos['f1'].idxmax()]\n",
    "mejor_modelo"
   ]
  },
  {
   "cell_type": "code",
   "execution_count": 28,
   "id": "40641bf2",
   "metadata": {},
   "outputs": [],
   "source": [
    "# Se evalúa si max_depth contiene nan\n",
    "if np.isnan(mejor_modelo['max_depth']):\n",
    "    mejor_modelo['max_depth'] = None\n",
    "    \n",
    "# Seleccion del modelo final\n",
    "modelo_final_S = RandomForestClassifier(criterion=mejor_modelo['criterion'],\n",
    "                                     max_depth=int(mejor_modelo['max_depth']),\n",
    "                                     max_features=mejor_modelo['max_features'],\n",
    "                                     min_samples_split=mejor_modelo['min_samples_split'],\n",
    "                                     n_estimators=mejor_modelo['n_estimators'],\n",
    "                                     n_jobs=-1,\n",
    "                                     random_state=42,\n",
    "                                     oob_score=False)\n",
    "\n",
    "# Entreno y predicciones del modelo final\n",
    "modelo_final_S.fit(eval(mejor_modelo[7]), eval(mejor_modelo[8]))\n",
    "y_pred = modelo_final_S.predict(eval(mejor_modelo[9]))"
   ]
  },
  {
   "cell_type": "code",
   "execution_count": 29,
   "id": "1c929f69",
   "metadata": {},
   "outputs": [
    {
     "data": {
      "image/png": "[encoded data removed]",
      "text/plain": [
       "<Figure size 432x288 with 2 Axes>"
      ]
     },
     "metadata": {},
     "output_type": "display_data"
    }
   ],
   "source": [
    "# Matriz de confusión\n",
    "cm = confusion_matrix(eval(mejor_modelo[10]), y_pred)\n",
    "cmd = ConfusionMatrixDisplay(confusion_matrix=cm)\n",
    "cmd.plot()\n",
    "plt.grid(None)\n",
    "plt.show()"
   ]
  },
  {
   "cell_type": "code",
   "execution_count": 30,
   "id": "ba3c7cc3",
   "metadata": {},
   "outputs": [
    {
     "data": {
      "text/plain": [
       "0.7769910088111299"
      ]
     },
     "execution_count": 30,
     "metadata": {},
     "output_type": "execute_result"
    }
   ],
   "source": [
    "# Se representa el score y se almacena en el dataframe de resúmen\n",
    "score = (f1_score(eval(mejor_modelo[10]), y_pred, average='macro'))\n",
    "resumen.loc[2] = [\"SMOTE\", score, \"modelo_final_S\"]\n",
    "score"
   ]
  },
  {
   "cell_type": "markdown",
   "id": "cef173dd",
   "metadata": {},
   "source": [
    "Una vez obtenidos los resultados de los 3 modelos, se visualizan los resultados a modo de resumen"
   ]
  },
  {
   "cell_type": "code",
   "execution_count": 31,
   "id": "bc77ea14",
   "metadata": {},
   "outputs": [
    {
     "data": {
      "text/html": [
       "<div>\n",
       "<style scoped>\n",
       "    .dataframe tbody tr th:only-of-type {\n",
       "        vertical-align: middle;\n",
       "    }\n",
       "\n",
       "    .dataframe tbody tr th {\n",
       "        vertical-align: top;\n",
       "    }\n",
       "\n",
       "    .dataframe thead th {\n",
       "        text-align: right;\n",
       "    }\n",
       "</style>\n",
       "<table border=\"1\" class=\"dataframe\">\n",
       "  <thead>\n",
       "    <tr style=\"text-align: right;\">\n",
       "      <th></th>\n",
       "      <th>Modelo</th>\n",
       "      <th>Score_f1-macro</th>\n",
       "      <th>Modelo_Final</th>\n",
       "    </tr>\n",
       "  </thead>\n",
       "  <tbody>\n",
       "    <tr>\n",
       "      <th>0</th>\n",
       "      <td>Balanced Random Forest</td>\n",
       "      <td>0.786307</td>\n",
       "      <td>modelo_final_BRF</td>\n",
       "    </tr>\n",
       "    <tr>\n",
       "      <th>1</th>\n",
       "      <td>Random Forest</td>\n",
       "      <td>0.781335</td>\n",
       "      <td>modelo_final_RF</td>\n",
       "    </tr>\n",
       "    <tr>\n",
       "      <th>2</th>\n",
       "      <td>SMOTE</td>\n",
       "      <td>0.776991</td>\n",
       "      <td>modelo_final_S</td>\n",
       "    </tr>\n",
       "  </tbody>\n",
       "</table>\n",
       "</div>"
      ],
      "text/plain": [
       "                   Modelo  Score_f1-macro      Modelo_Final\n",
       "0  Balanced Random Forest        0.786307  modelo_final_BRF\n",
       "1           Random Forest        0.781335   modelo_final_RF\n",
       "2                   SMOTE        0.776991    modelo_final_S"
      ]
     },
     "execution_count": 31,
     "metadata": {},
     "output_type": "execute_result"
    }
   ],
   "source": [
    "# Se visualiza el resumen de los datos\n",
    "resumen = resumen.sort_values('Score_f1-macro', ascending=False).reset_index(drop=True)\n",
    "resumen"
   ]
  },
  {
   "cell_type": "markdown",
   "id": "3fa1a965",
   "metadata": {},
   "source": [
    "### Prediccion en los datos de test"
   ]
  },
  {
   "cell_type": "markdown",
   "id": "d51cd1e9",
   "metadata": {},
   "source": [
    "Para la prediccion, se utilizará el modelo que corresponde con la primera fila del dataset, ya que se han ordenado en función del score f1-macro"
   ]
  },
  {
   "cell_type": "code",
   "execution_count": 32,
   "id": "1b40e203",
   "metadata": {},
   "outputs": [],
   "source": [
    "# Se cargan los datos de test y se calculan las predicciones\n",
    "test = pd.read_csv(\"jm_X_test.csv\")\n",
    "predicciones = eval(resumen['Modelo_Final'][0]).predict(test)"
   ]
  },
  {
   "cell_type": "markdown",
   "id": "fc7d8fb0",
   "metadata": {},
   "source": [
    "Para finalizar, se genera un dataframe con las predicciones"
   ]
  },
  {
   "cell_type": "code",
   "execution_count": 41,
   "id": "345049a7",
   "metadata": {},
   "outputs": [],
   "source": [
    "df_pred = pd.DataFrame(predicciones, columns=['target'])\n",
    "df_pred.to_csv(\"erupciones_volcanicas.csv\", index=False, header=\"target\")\n",
    "df_pred.to_json(\"eurpciones.json\")"
   ]
  },
  {
   "cell_type": "code",
   "execution_count": 36,
   "id": "931f5841",
   "metadata": {},
   "outputs": [],
   "source": []
  }
 ],
 "metadata": {
  "kernelspec": {
   "display_name": "Python 3 (ipykernel)",
   "language": "python",
   "name": "python3"
  },
  "language_info": {
   "codemirror_mode": {
    "name": "ipython",
    "version": 3
   },
   "file_extension": ".py",
   "mimetype": "text/x-python",
   "name": "python",
   "nbconvert_exporter": "python",
   "pygments_lexer": "ipython3",
   "version": "3.9.12"
  }
 },
 "nbformat": 4,
 "nbformat_minor": 5
}
